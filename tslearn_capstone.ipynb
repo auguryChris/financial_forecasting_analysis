{
  "nbformat": 4,
  "nbformat_minor": 0,
  "metadata": {
    "colab": {
      "name": "tslearn_capstone.ipynb",
      "provenance": []
    },
    "kernelspec": {
      "name": "python3",
      "display_name": "Python 3"
    },
    "language_info": {
      "name": "python"
    }
  },
  "cells": [
    {
      "cell_type": "code",
      "metadata": {
        "colab": {
          "base_uri": "https://localhost:8080/",
          "height": 381
        },
        "id": "GZxWp41kCs9_",
        "outputId": "b4675a00-0ffd-46b7-c26f-8fcc7a33a7dc"
      },
      "source": [
        "!pip install pandas=='1.3.4'"
      ],
      "execution_count": 24,
      "outputs": [
        {
          "output_type": "stream",
          "name": "stdout",
          "text": [
            "Collecting pandas==1.3.4\n",
            "  Downloading pandas-1.3.4-cp37-cp37m-manylinux_2_17_x86_64.manylinux2014_x86_64.whl (11.3 MB)\n",
            "\u001b[K     |████████████████████████████████| 11.3 MB 6.5 MB/s \n",
            "\u001b[?25hRequirement already satisfied: pytz>=2017.3 in /usr/local/lib/python3.7/dist-packages (from pandas==1.3.4) (2018.9)\n",
            "Requirement already satisfied: numpy>=1.17.3 in /usr/local/lib/python3.7/dist-packages (from pandas==1.3.4) (1.19.5)\n",
            "Requirement already satisfied: python-dateutil>=2.7.3 in /usr/local/lib/python3.7/dist-packages (from pandas==1.3.4) (2.8.2)\n",
            "Requirement already satisfied: six>=1.5 in /usr/local/lib/python3.7/dist-packages (from python-dateutil>=2.7.3->pandas==1.3.4) (1.15.0)\n",
            "Installing collected packages: pandas\n",
            "  Attempting uninstall: pandas\n",
            "    Found existing installation: pandas 1.1.5\n",
            "    Uninstalling pandas-1.1.5:\n",
            "      Successfully uninstalled pandas-1.1.5\n",
            "\u001b[31mERROR: pip's dependency resolver does not currently take into account all the packages that are installed. This behaviour is the source of the following dependency conflicts.\n",
            "google-colab 1.0.0 requires pandas~=1.1.0; python_version >= \"3.0\", but you have pandas 1.3.4 which is incompatible.\u001b[0m\n",
            "Successfully installed pandas-1.3.4\n"
          ]
        },
        {
          "output_type": "display_data",
          "data": {
            "application/vnd.colab-display-data+json": {
              "pip_warning": {
                "packages": [
                  "pandas"
                ]
              }
            }
          },
          "metadata": {}
        }
      ]
    },
    {
      "cell_type": "code",
      "metadata": {
        "id": "uCJ85o_1_uVD"
      },
      "source": [
        "import pandas as pd\n",
        "import numpy as np\n",
        "import scipy\n",
        "import sklearn"
      ],
      "execution_count": 1,
      "outputs": []
    },
    {
      "cell_type": "code",
      "metadata": {
        "id": "ydJ-GegkBlT9"
      },
      "source": [
        "import pickle"
      ],
      "execution_count": 2,
      "outputs": []
    },
    {
      "cell_type": "code",
      "metadata": {
        "colab": {
          "base_uri": "https://localhost:8080/"
        },
        "id": "byjB4RX6AHN4",
        "outputId": "7cf12913-2fda-4943-82f4-ac819fabf28e"
      },
      "source": [
        "!python -m pip install tslearn"
      ],
      "execution_count": 3,
      "outputs": [
        {
          "output_type": "stream",
          "name": "stdout",
          "text": [
            "Requirement already satisfied: tslearn in /usr/local/lib/python3.7/dist-packages (0.5.2)\n",
            "Requirement already satisfied: scipy in /usr/local/lib/python3.7/dist-packages (from tslearn) (1.4.1)\n",
            "Requirement already satisfied: joblib in /usr/local/lib/python3.7/dist-packages (from tslearn) (1.1.0)\n",
            "Requirement already satisfied: scikit-learn in /usr/local/lib/python3.7/dist-packages (from tslearn) (0.22.2.post1)\n",
            "Requirement already satisfied: numpy in /usr/local/lib/python3.7/dist-packages (from tslearn) (1.19.5)\n",
            "Requirement already satisfied: numba in /usr/local/lib/python3.7/dist-packages (from tslearn) (0.51.2)\n",
            "Requirement already satisfied: Cython in /usr/local/lib/python3.7/dist-packages (from tslearn) (0.29.24)\n",
            "Requirement already satisfied: llvmlite<0.35,>=0.34.0.dev0 in /usr/local/lib/python3.7/dist-packages (from numba->tslearn) (0.34.0)\n",
            "Requirement already satisfied: setuptools in /usr/local/lib/python3.7/dist-packages (from numba->tslearn) (57.4.0)\n"
          ]
        }
      ]
    },
    {
      "cell_type": "code",
      "metadata": {
        "colab": {
          "base_uri": "https://localhost:8080/"
        },
        "id": "IqlAId4yEuLQ",
        "outputId": "16a4346e-451c-4152-b545-1c374aea31df"
      },
      "source": [
        "from google.colab import drive\n",
        "drive.mount('/gdrive')\n",
        "%cd /gdrive"
      ],
      "execution_count": 9,
      "outputs": [
        {
          "output_type": "stream",
          "name": "stdout",
          "text": [
            "Mounted at /gdrive\n",
            "/gdrive\n"
          ]
        }
      ]
    },
    {
      "cell_type": "code",
      "metadata": {
        "id": "XG8bVBEhBr7S"
      },
      "source": [
        "decomposed_df_no_null = pd.read_csv('/gdrive/MyDrive/Colab Notebooks/decomposed_df_no_null.csv')"
      ],
      "execution_count": 11,
      "outputs": []
    },
    {
      "cell_type": "code",
      "metadata": {
        "colab": {
          "base_uri": "https://localhost:8080/"
        },
        "id": "nA1jF233Ahh2",
        "outputId": "9ca40dfe-7f20-410f-d99a-06cb9f3fa17f"
      },
      "source": [
        "from tslearn.clustering import TimeSeriesKMeans\n",
        "from tslearn.utils import to_time_series_dataset"
      ],
      "execution_count": 12,
      "outputs": [
        {
          "output_type": "stream",
          "name": "stderr",
          "text": [
            "/usr/local/lib/python3.7/dist-packages/tslearn/clustering/kmeans.py:17: UserWarning: Scikit-learn <0.24 will be deprecated in a future release of tslearn\n",
            "  \"Scikit-learn <0.24 will be deprecated in a \"\n"
          ]
        }
      ]
    },
    {
      "cell_type": "code",
      "metadata": {
        "colab": {
          "base_uri": "https://localhost:8080/"
        },
        "id": "18ZfiogVFf_P",
        "outputId": "78325dea-ee32-47a8-a50f-a3ee4f97357f"
      },
      "source": [
        "ticker_order = list(decomposed_df_no_null.ticker.dropna().unique())\n",
        "print(f\"# of tickers = {len(ticker_order)}\") # this should be 500 but is 497\n",
        "\n",
        "# this list will be transformed\n",
        "ts_data = []\n",
        "for t in ticker_order:\n",
        "    # shape is (118, 18)\n",
        "    # converting numpy to list for tslearn\n",
        "    ts_data.append(decomposed_df_no_null[decomposed_df_no_null.ticker ==t].iloc[:,2:].to_numpy())"
      ],
      "execution_count": 22,
      "outputs": [
        {
          "output_type": "stream",
          "name": "stdout",
          "text": [
            "# of tickers = 497\n"
          ]
        }
      ]
    },
    {
      "cell_type": "code",
      "metadata": {
        "id": "JDIAKohqFi4f"
      },
      "source": [
        "ts_X = to_time_series_dataset(ts_data) "
      ],
      "execution_count": 23,
      "outputs": []
    },
    {
      "cell_type": "code",
      "metadata": {
        "colab": {
          "base_uri": "https://localhost:8080/"
        },
        "id": "pCCUgDhJJCqa",
        "outputId": "5f659b3a-8b75-4fe5-f10f-72a9e509b9a9"
      },
      "source": [
        "ts_X"
      ],
      "execution_count": 24,
      "outputs": [
        {
          "output_type": "execute_result",
          "data": {
            "text/plain": [
              "array([[[ 5.09451530e-02, -6.30879268e-02, -1.04740784e-02, ...,\n",
              "          3.25866958e-02, -5.22762463e-02, -1.38278132e-02],\n",
              "        [ 4.63887243e-03, -6.95111349e-02, -1.67083244e-02, ...,\n",
              "         -3.81475715e-02, -5.38284474e-02, -1.98759069e-02],\n",
              "        [-4.30708526e-02, -7.91107740e-02, -2.18891567e-02, ...,\n",
              "         -2.51172508e-02, -6.46049573e-02, -2.45355135e-02],\n",
              "        ...,\n",
              "        [ 8.85309168e-03,  6.14612040e-02,  2.30091497e-02, ...,\n",
              "          3.77345708e-02,  4.95598864e-02,  4.67655121e-02],\n",
              "        [ 7.65364677e-02,  5.20922474e-02,  2.38995600e-02, ...,\n",
              "          7.40329682e-02,  3.82848630e-02,  4.45032853e-02],\n",
              "        [            nan,             nan,             nan, ...,\n",
              "                     nan,             nan,             nan]],\n",
              "\n",
              "       [[ 5.78188928e-02,  5.02389545e-02, -7.63659064e-02, ...,\n",
              "          4.13172304e-02,  4.56327999e-02,  1.59668360e-02],\n",
              "        [-1.54256966e-03,  5.00559567e-02, -8.78232057e-02, ...,\n",
              "         -4.03737970e-02,  4.15399602e-02,  5.17366224e-04],\n",
              "        [-5.42032446e-02,  4.10579157e-02, -1.02791811e-01, ...,\n",
              "          6.67566488e-03,  2.49861810e-02, -1.69608062e-02],\n",
              "        ...,\n",
              "        [ 2.38377241e-02, -7.91407974e-02,  6.87105940e-02, ...,\n",
              "         -4.93838440e-03, -5.55003169e-02,  1.63996741e-01],\n",
              "        [-7.27582677e-03, -6.63275444e-02,  6.68371575e-02, ...,\n",
              "          3.97572721e-03, -4.46858891e-02,  1.59807571e-01],\n",
              "        [            nan,             nan,             nan, ...,\n",
              "                     nan,             nan,             nan]],\n",
              "\n",
              "       [[ 4.34349005e-02, -1.71228536e-02,  2.72509710e-03, ...,\n",
              "          1.05319532e-02, -7.64510421e-03,  1.35139706e-02],\n",
              "        [-4.02290347e-02, -2.32122028e-02,  3.11688068e-03, ...,\n",
              "         -1.70653012e-02, -9.87757696e-03,  1.52382015e-02],\n",
              "        [-2.22597151e-02, -2.09369786e-02,  3.35691892e-03, ...,\n",
              "          1.71565808e-02, -7.10636932e-03,  1.73007297e-02],\n",
              "        ...,\n",
              "        [ 1.98496486e-02,  6.75446439e-03,  1.67160903e-01, ...,\n",
              "         -9.87104003e-03, -1.15710884e-02,  1.83666748e-01],\n",
              "        [ 1.87773943e-02,  5.24452240e-03,  1.70851658e-01, ...,\n",
              "          1.14943613e-02,  4.66358990e-03,  1.82759034e-01],\n",
              "        [            nan,             nan,             nan, ...,\n",
              "                     nan,             nan,             nan]],\n",
              "\n",
              "       ...,\n",
              "\n",
              "       [[ 8.23340995e-02,  2.59756369e-02, -2.51090735e-02, ...,\n",
              "          1.19917475e-01, -1.31230476e-01, -2.91495703e-02],\n",
              "        [-6.76209794e-03,  3.15555430e-02, -6.06423813e-02, ...,\n",
              "         -1.50305998e-02, -1.70621099e-01, -3.30354070e-02],\n",
              "        [-7.68848406e-02,  2.75952597e-02, -8.92272742e-02, ...,\n",
              "         -1.07718478e-01, -2.05688570e-01, -3.39849684e-02],\n",
              "        ...,\n",
              "        [ 6.82620192e-02,  9.15584587e-02, -9.80640262e-02, ...,\n",
              "          7.51027122e-02,  2.53292649e-04,  3.16419302e-02],\n",
              "        [ 5.01749436e-02,  8.33341862e-02, -9.40224367e-02, ...,\n",
              "          7.26414443e-02, -2.61114756e-02,  2.77423024e-02],\n",
              "        [            nan,             nan,             nan, ...,\n",
              "                     nan,             nan,             nan]],\n",
              "\n",
              "       [[-6.98148722e-02, -8.78482675e-02,  1.83680998e-01, ...,\n",
              "         -8.17788740e-03,  4.07004631e-03,  2.64202904e-01],\n",
              "        [ 4.55867203e-02, -2.31830308e-02,  2.21332537e-01, ...,\n",
              "         -3.66225113e-03, -5.49142964e-03,  2.68335447e-01],\n",
              "        [-1.95173403e-02,  4.61728820e-02,  2.55134476e-01, ...,\n",
              "          1.22497916e-02,  2.07064955e-03,  2.70562148e-01],\n",
              "        ...,\n",
              "        [ 1.01114891e-02,  1.75011409e-04,  1.86729289e-01, ...,\n",
              "          8.06683594e-02, -1.77014218e-02,  1.93346284e-01],\n",
              "        [ 5.95135702e-02,  3.42524172e-03,  1.80849390e-01, ...,\n",
              "          2.08581397e-02, -1.25891627e-02,  1.90078356e-01],\n",
              "        [            nan,             nan,             nan, ...,\n",
              "                     nan,             nan,             nan]],\n",
              "\n",
              "       [[ 6.09605169e-02, -1.45549782e-02, -1.29768765e-02, ...,\n",
              "          3.03977553e-02,  1.08674802e-03, -4.28182558e-02],\n",
              "        [-1.43925509e-02, -5.02175161e-02, -1.51103366e-02, ...,\n",
              "         -4.27604095e-02,  4.51890598e-03, -5.20511819e-02],\n",
              "        [-4.19265284e-02, -8.02727834e-02, -1.63711225e-02, ...,\n",
              "         -2.28618592e-02, -8.35517273e-04, -5.74476608e-02],\n",
              "        ...,\n",
              "        [ 9.69677366e-03, -1.57572714e-01, -4.45379035e-03, ...,\n",
              "          6.25003229e-02, -1.56993760e-01, -2.59605663e-02],\n",
              "        [ 4.69107521e-02, -1.38258460e-01, -2.12156423e-03, ...,\n",
              "          4.12164664e-02, -1.28336402e-01, -2.27436769e-02],\n",
              "        [            nan,             nan,             nan, ...,\n",
              "                     nan,             nan,             nan]]])"
            ]
          },
          "metadata": {},
          "execution_count": 24
        }
      ]
    },
    {
      "cell_type": "code",
      "metadata": {
        "colab": {
          "base_uri": "https://localhost:8080/"
        },
        "id": "ePdxIDZOAeyt",
        "outputId": "d5167c71-2239-486d-a51c-270604922b56"
      },
      "source": [
        "#distortions = [] # this is for no-time\n",
        "inertias = []\n",
        "K = range(6, 25)\n",
        "seed = 0\n",
        "for k in K:\n",
        "    # Building and fitting the model\n",
        "    print(f\"Clustering with {k}\")\n",
        "    kmeanModel = TimeSeriesKMeans(n_clusters=k, metric=\"dtw\", max_iter=10, random_state=seed)\n",
        "    #kmeanModel = KMeans(n_clusters=k).fit(X_transformed)\n",
        "    kmeanModel.fit(ts_X)\n",
        "    \n",
        "    inertias.append(kmeanModel.inertia_)\n"
      ],
      "execution_count": 29,
      "outputs": [
        {
          "output_type": "stream",
          "name": "stdout",
          "text": [
            "Clustering with 6\n",
            "Clustering with 7\n",
            "Clustering with 8\n",
            "Clustering with 9\n",
            "Clustering with 10\n",
            "Clustering with 11\n",
            "Clustering with 12\n",
            "Clustering with 13\n",
            "Clustering with 14\n",
            "Clustering with 15\n",
            "Clustering with 16\n",
            "Clustering with 17\n",
            "Clustering with 18\n",
            "Clustering with 19\n",
            "Clustering with 20\n",
            "Clustering with 21\n",
            "Clustering with 22\n",
            "Clustering with 23\n",
            "Clustering with 24\n"
          ]
        }
      ]
    },
    {
      "cell_type": "code",
      "metadata": {
        "id": "TQfKoXJ5SEA8"
      },
      "source": [
        "import matplotlib.pyplot as plt"
      ],
      "execution_count": 33,
      "outputs": []
    },
    {
      "cell_type": "code",
      "metadata": {
        "colab": {
          "base_uri": "https://localhost:8080/",
          "height": 295
        },
        "id": "HN-LfRL5F50M",
        "outputId": "1340bacf-6836-4b15-be6a-6a500958d1e5"
      },
      "source": [
        "plt.plot(K, inertias, 'bx-')\n",
        "plt.xlabel('Values of K')\n",
        "plt.ylabel('Inertia')\n",
        "plt.title('The Elbow Method using Inertia')\n",
        "plt.show()"
      ],
      "execution_count": 34,
      "outputs": [
        {
          "output_type": "display_data",
          "data": {
            "image/png": "[encoded data removed]",
            "text/plain": [
              "<Figure size 432x288 with 1 Axes>"
            ]
          },
          "metadata": {
            "needs_background": "light"
          }
        }
      ]
    },
    {
      "cell_type": "code",
      "metadata": {
        "id": "MGm4O_UVSaeE"
      },
      "source": [
        "kmeanModel = TimeSeriesKMeans(n_clusters=20, metric=\"dtw\", max_iter=10, random_state=seed)\n",
        "kmeanModel.fit(ts_X)\n",
        "labels = kmeanModel.predict(ts_X)"
      ],
      "execution_count": 35,
      "outputs": []
    },
    {
      "cell_type": "code",
      "metadata": {
        "id": "ua2xtqLBTtGY"
      },
      "source": [
        "stock_clusters = pd.DataFrame(np.array([ticker_order,labels]).T, columns=['stock','cluster'])"
      ],
      "execution_count": 36,
      "outputs": []
    },
    {
      "cell_type": "code",
      "metadata": {
        "colab": {
          "base_uri": "https://localhost:8080/",
          "height": 424
        },
        "id": "wKciBlDCT7pw",
        "outputId": "5f9bc820-22bd-4a89-feb7-93d94941d979"
      },
      "source": [
        "stock_clusters"
      ],
      "execution_count": 37,
      "outputs": [
        {
          "output_type": "execute_result",
          "data": {
            "text/html": [
              "<div>\n",
              "<style scoped>\n",
              "    .dataframe tbody tr th:only-of-type {\n",
              "        vertical-align: middle;\n",
              "    }\n",
              "\n",
              "    .dataframe tbody tr th {\n",
              "        vertical-align: top;\n",
              "    }\n",
              "\n",
              "    .dataframe thead th {\n",
              "        text-align: right;\n",
              "    }\n",
              "</style>\n",
              "<table border=\"1\" class=\"dataframe\">\n",
              "  <thead>\n",
              "    <tr style=\"text-align: right;\">\n",
              "      <th></th>\n",
              "      <th>stock</th>\n",
              "      <th>cluster</th>\n",
              "    </tr>\n",
              "  </thead>\n",
              "  <tbody>\n",
              "    <tr>\n",
              "      <th>0</th>\n",
              "      <td>KR</td>\n",
              "      <td>2</td>\n",
              "    </tr>\n",
              "    <tr>\n",
              "      <th>1</th>\n",
              "      <td>AZO</td>\n",
              "      <td>2</td>\n",
              "    </tr>\n",
              "    <tr>\n",
              "      <th>2</th>\n",
              "      <td>COST</td>\n",
              "      <td>2</td>\n",
              "    </tr>\n",
              "    <tr>\n",
              "      <th>3</th>\n",
              "      <td>GS</td>\n",
              "      <td>4</td>\n",
              "    </tr>\n",
              "    <tr>\n",
              "      <th>4</th>\n",
              "      <td>BBY</td>\n",
              "      <td>1</td>\n",
              "    </tr>\n",
              "    <tr>\n",
              "      <th>...</th>\n",
              "      <td>...</td>\n",
              "      <td>...</td>\n",
              "    </tr>\n",
              "    <tr>\n",
              "      <th>492</th>\n",
              "      <td>MRNA</td>\n",
              "      <td>14</td>\n",
              "    </tr>\n",
              "    <tr>\n",
              "      <th>493</th>\n",
              "      <td>CARR</td>\n",
              "      <td>4</td>\n",
              "    </tr>\n",
              "    <tr>\n",
              "      <th>494</th>\n",
              "      <td>CTVA</td>\n",
              "      <td>15</td>\n",
              "    </tr>\n",
              "    <tr>\n",
              "      <th>495</th>\n",
              "      <td>OGN</td>\n",
              "      <td>15</td>\n",
              "    </tr>\n",
              "    <tr>\n",
              "      <th>496</th>\n",
              "      <td>OTIS</td>\n",
              "      <td>16</td>\n",
              "    </tr>\n",
              "  </tbody>\n",
              "</table>\n",
              "<p>497 rows × 2 columns</p>\n",
              "</div>"
            ],
            "text/plain": [
              "    stock cluster\n",
              "0      KR       2\n",
              "1     AZO       2\n",
              "2    COST       2\n",
              "3      GS       4\n",
              "4     BBY       1\n",
              "..    ...     ...\n",
              "492  MRNA      14\n",
              "493  CARR       4\n",
              "494  CTVA      15\n",
              "495   OGN      15\n",
              "496  OTIS      16\n",
              "\n",
              "[497 rows x 2 columns]"
            ]
          },
          "metadata": {},
          "execution_count": 37
        }
      ]
    },
    {
      "cell_type": "code",
      "metadata": {
        "id": "nr5Cgic_T9r5"
      },
      "source": [
        "stock_clusters.to_csv('/gdrive/MyDrive/Colab Notebooks/stock_clusters.csv')"
      ],
      "execution_count": 39,
      "outputs": []
    }
  ]
}