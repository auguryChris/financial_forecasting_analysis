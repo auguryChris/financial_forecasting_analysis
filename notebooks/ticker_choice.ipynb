{
 "cells": [
  {
   "cell_type": "markdown",
   "id": "7ff8b43e",
   "metadata": {},
   "source": [
    "### Initial tickers chosen by sector/market cap, the rest chosen by dissimilarity per initial ticker"
   ]
  },
  {
   "cell_type": "code",
   "execution_count": 1,
   "id": "0588b7b5",
   "metadata": {},
   "outputs": [],
   "source": [
    "import pandas as pd"
   ]
  },
  {
   "cell_type": "code",
   "execution_count": 16,
   "id": "0c9ad005",
   "metadata": {},
   "outputs": [],
   "source": [
    "dissimilarity_df = pd.read_csv('../data/pairwise_dtw.csv')\n",
    "ticker_cluster_df = pd.read_csv('../data/stock_clusters.csv')"
   ]
  },
  {
   "cell_type": "code",
   "execution_count": 6,
   "id": "686defad",
   "metadata": {},
   "outputs": [],
   "source": [
    "# Sectors: MSFT: Software-Infrastructure, WFC: Financial, JNJ: Healthcare, XOM: Energy \n",
    "selected_tickers = ['MSFT', 'WFC', 'JNJ', 'XOM']"
   ]
  },
  {
   "cell_type": "code",
   "execution_count": 7,
   "id": "aa99e6b2",
   "metadata": {},
   "outputs": [
    {
     "name": "stdout",
     "output_type": "stream",
     "text": [
      "MSFT least similar to ADSK\n",
      "WFC least similar to WAT\n",
      "JNJ least similar to CARR\n",
      "XOM least similar to WAT\n"
     ]
    }
   ],
   "source": [
    "final_tickers = selected_tickers.copy()\n",
    "for ticker in selected_tickers:\n",
    "    dissimilar_ticker = dissimilarity_df.iloc[dissimilarity_df[ticker].idxmax(), 0]\n",
    "    print(f'{ticker} least similar to {dissimilar_ticker}')\n",
    "    if dissimilar_ticker not in final_tickers:\n",
    "        final_tickers.append(dissimilar_ticker)"
   ]
  },
  {
   "cell_type": "code",
   "execution_count": 8,
   "id": "304a3262",
   "metadata": {
    "scrolled": true
   },
   "outputs": [
    {
     "name": "stdout",
     "output_type": "stream",
     "text": [
      "MSFT cluster number 2\n",
      "WFC cluster number 15\n",
      "JNJ cluster number 10\n",
      "XOM cluster number 15\n",
      "ADSK cluster number 16\n",
      "WAT cluster number 2\n",
      "CARR cluster number 4\n"
     ]
    }
   ],
   "source": [
    "for ticker in final_tickers:\n",
    "    cluster_number = ticker_cluster_df[ticker_cluster_df['stock']==ticker]['cluster'].values[0]\n",
    "    print(f'{ticker} cluster number {cluster_number}')"
   ]
  },
  {
   "cell_type": "code",
   "execution_count": 9,
   "id": "c562a42d",
   "metadata": {},
   "outputs": [
    {
     "data": {
      "text/plain": [
       "['MSFT', 'WFC', 'JNJ', 'XOM', 'ADSK', 'WAT', 'CARR']"
      ]
     },
     "execution_count": 9,
     "metadata": {},
     "output_type": "execute_result"
    }
   ],
   "source": [
    "final_tickers"
   ]
  },
  {
   "cell_type": "markdown",
   "id": "2d4f0640",
   "metadata": {},
   "source": [
    "### Yahoo does not have sufficent data for CARR, moving to second least similar stock to JNJ"
   ]
  },
  {
   "cell_type": "code",
   "execution_count": 34,
   "id": "31495c6c",
   "metadata": {},
   "outputs": [
    {
     "data": {
      "text/plain": [
       "493    12.531018\n",
       "141    12.496713\n",
       "345    12.162270\n",
       "Name: JNJ, dtype: float64"
      ]
     },
     "execution_count": 34,
     "metadata": {},
     "output_type": "execute_result"
    }
   ],
   "source": [
    "dissimilarity_df['JNJ'].nlargest(3)"
   ]
  },
  {
   "cell_type": "code",
   "execution_count": 38,
   "id": "c762035d",
   "metadata": {},
   "outputs": [
    {
     "data": {
      "text/plain": [
       "Unnamed: 0        FIS\n",
       "KR            11.5377\n",
       "AZO           11.4053\n",
       "COST          11.8138\n",
       "GS            7.64826\n",
       "               ...   \n",
       "MRNA          9.30501\n",
       "CARR          6.52644\n",
       "CTVA          9.20662\n",
       "OGN           9.99183\n",
       "OTIS          10.3925\n",
       "Name: 141, Length: 498, dtype: object"
      ]
     },
     "execution_count": 38,
     "metadata": {},
     "output_type": "execute_result"
    }
   ],
   "source": [
    "dissimilarity_df.iloc[141]"
   ]
  },
  {
   "cell_type": "markdown",
   "id": "d5354bb1",
   "metadata": {},
   "source": [
    "FIS is a relatively new company, opting to use older company"
   ]
  },
  {
   "cell_type": "code",
   "execution_count": 39,
   "id": "85e472da",
   "metadata": {},
   "outputs": [
    {
     "data": {
      "text/plain": [
       "Unnamed: 0       AMAT\n",
       "KR            10.4611\n",
       "AZO           10.5714\n",
       "COST          10.4931\n",
       "GS            6.61213\n",
       "               ...   \n",
       "MRNA          8.94902\n",
       "CARR          6.49146\n",
       "CTVA           8.9548\n",
       "OGN           10.0425\n",
       "OTIS          10.3214\n",
       "Name: 345, Length: 498, dtype: object"
      ]
     },
     "execution_count": 39,
     "metadata": {},
     "output_type": "execute_result"
    }
   ],
   "source": [
    "dissimilarity_df.iloc[345]"
   ]
  },
  {
   "cell_type": "markdown",
   "id": "e62f0f86",
   "metadata": {},
   "source": [
    "AMAT will have sufficient data on yahoo"
   ]
  },
  {
   "cell_type": "code",
   "execution_count": 40,
   "id": "5c73cd51",
   "metadata": {},
   "outputs": [],
   "source": [
    "final_tickers.remove('CARR')"
   ]
  },
  {
   "cell_type": "code",
   "execution_count": 42,
   "id": "16f9eb33",
   "metadata": {},
   "outputs": [],
   "source": [
    "final_tickers.append('AMAT')"
   ]
  },
  {
   "cell_type": "code",
   "execution_count": 43,
   "id": "5bde5aa0",
   "metadata": {},
   "outputs": [
    {
     "data": {
      "text/plain": [
       "['MSFT', 'WFC', 'JNJ', 'XOM', 'ADSK', 'WAT', 'AMAT']"
      ]
     },
     "execution_count": 43,
     "metadata": {},
     "output_type": "execute_result"
    }
   ],
   "source": [
    "final_tickers"
   ]
  },
  {
   "cell_type": "code",
   "execution_count": 44,
   "id": "a9258d33",
   "metadata": {},
   "outputs": [
    {
     "name": "stdout",
     "output_type": "stream",
     "text": [
      "MSFT cluster number 2\n",
      "WFC cluster number 15\n",
      "JNJ cluster number 10\n",
      "XOM cluster number 15\n",
      "ADSK cluster number 16\n",
      "WAT cluster number 2\n",
      "AMAT cluster number 4\n"
     ]
    }
   ],
   "source": [
    "for ticker in final_tickers:\n",
    "    cluster_number = ticker_cluster_df[ticker_cluster_df['stock']==ticker]['cluster'].values[0]\n",
    "    print(f'{ticker} cluster number {cluster_number}')"
   ]
  }
 ],
 "metadata": {
  "hide_input": false,
  "kernelspec": {
   "display_name": "Python 3",
   "language": "python",
   "name": "python3"
  },
  "language_info": {
   "codemirror_mode": {
    "name": "ipython",
    "version": 3
   },
   "file_extension": ".py",
   "mimetype": "text/x-python",
   "name": "python",
   "nbconvert_exporter": "python",
   "pygments_lexer": "ipython3",
   "version": "3.6.12"
  },
  "toc": {
   "base_numbering": 1,
   "nav_menu": {},
   "number_sections": false,
   "sideBar": true,
   "skip_h1_title": false,
   "title_cell": "Table of Contents",
   "title_sidebar": "Contents",
   "toc_cell": false,
   "toc_position": {},
   "toc_section_display": true,
   "toc_window_display": false
  },
  "varInspector": {
   "cols": {
    "lenName": 16,
    "lenType": 16,
    "lenVar": 40
   },
   "kernels_config": {
    "python": {
     "delete_cmd_postfix": "",
     "delete_cmd_prefix": "del ",
     "library": "var_list.py",
     "varRefreshCmd": "print(var_dic_list())"
    },
    "r": {
     "delete_cmd_postfix": ") ",
     "delete_cmd_prefix": "rm(",
     "library": "var_list.r",
     "varRefreshCmd": "cat(var_dic_list()) "
    }
   },
   "types_to_exclude": [
    "module",
    "function",
    "builtin_function_or_method",
    "instance",
    "_Feature"
   ],
   "window_display": false
  }
 },
 "nbformat": 4,
 "nbformat_minor": 5
}
