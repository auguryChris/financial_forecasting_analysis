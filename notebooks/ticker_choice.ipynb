{
 "cells": [
  {
   "cell_type": "markdown",
   "id": "7ff8b43e",
   "metadata": {},
   "source": [
    "### Initial tickers chosen by sector/market cap, the rest chosen by dissimilarity per initial ticker"
   ]
  },
  {
   "cell_type": "code",
   "execution_count": 1,
   "id": "0588b7b5",
   "metadata": {},
   "outputs": [],
   "source": [
    "import pandas as pd"
   ]
  },
  {
   "cell_type": "code",
   "execution_count": 3,
   "id": "0c9ad005",
   "metadata": {},
   "outputs": [],
   "source": [
    "dissimilarity_df = pd.read_csv('pairwise_dtw.csv')\n",
    "ticker_cluster_df = pd.read_csv('stock_clusters.csv')"
   ]
  },
  {
   "cell_type": "code",
   "execution_count": 82,
   "id": "686defad",
   "metadata": {},
   "outputs": [],
   "source": [
    "# Sectors: MSFT: Software-Infrastructure, V: Financial, JNJ: Healthcare, XOM: Energy \n",
    "selected_tickers = ['MSFT', 'V',  'JNJ', 'XOM']"
   ]
  },
  {
   "cell_type": "code",
   "execution_count": 83,
   "id": "aa99e6b2",
   "metadata": {},
   "outputs": [
    {
     "name": "stdout",
     "output_type": "stream",
     "text": [
      "MSFT least similar to ADSK\n",
      "V least similar to MTD\n",
      "JNJ least similar to CARR\n",
      "XOM least similar to WAT\n"
     ]
    }
   ],
   "source": [
    "final_tickers = selected_tickers.copy()\n",
    "for ticker in selected_tickers:\n",
    "    dissimilar_ticker = dissimilarity_df.iloc[dissimilarity_df[ticker].idxmax(), 0]\n",
    "    print(f'{ticker} least similar to {dissimilar_ticker}')\n",
    "    if dissimilar_ticker not in final_tickers:\n",
    "        final_tickers.append(dissimilar_ticker)"
   ]
  },
  {
   "cell_type": "code",
   "execution_count": 85,
   "id": "304a3262",
   "metadata": {
    "scrolled": true
   },
   "outputs": [
    {
     "name": "stdout",
     "output_type": "stream",
     "text": [
      "MSFT cluster number 2\n",
      "V cluster number 19\n",
      "JNJ cluster number 10\n",
      "XOM cluster number 15\n",
      "ADSK cluster number 16\n",
      "MTD cluster number 10\n",
      "CARR cluster number 4\n",
      "WAT cluster number 2\n"
     ]
    }
   ],
   "source": [
    "for ticker in final_tickers:\n",
    "    cluster_number = ticker_cluster_df[ticker_cluster_df['stock']==ticker]['cluster'].values[0]\n",
    "    print(f'{ticker} cluster number {cluster_number}')"
   ]
  },
  {
   "cell_type": "code",
   "execution_count": 88,
   "id": "c562a42d",
   "metadata": {},
   "outputs": [
    {
     "data": {
      "text/plain": [
       "['MSFT', 'V', 'JNJ', 'XOM', 'ADSK', 'MTD', 'CARR', 'WAT']"
      ]
     },
     "execution_count": 88,
     "metadata": {},
     "output_type": "execute_result"
    }
   ],
   "source": [
    "final_tickers"
   ]
  }
 ],
 "metadata": {
  "hide_input": false,
  "kernelspec": {
   "display_name": "Python 3",
   "language": "python",
   "name": "python3"
  },
  "language_info": {
   "codemirror_mode": {
    "name": "ipython",
    "version": 3
   },
   "file_extension": ".py",
   "mimetype": "text/x-python",
   "name": "python",
   "nbconvert_exporter": "python",
   "pygments_lexer": "ipython3",
   "version": "3.6.12"
  },
  "toc": {
   "base_numbering": 1,
   "nav_menu": {},
   "number_sections": false,
   "sideBar": true,
   "skip_h1_title": false,
   "title_cell": "Table of Contents",
   "title_sidebar": "Contents",
   "toc_cell": false,
   "toc_position": {},
   "toc_section_display": true,
   "toc_window_display": false
  },
  "varInspector": {
   "cols": {
    "lenName": 16,
    "lenType": 16,
    "lenVar": 40
   },
   "kernels_config": {
    "python": {
     "delete_cmd_postfix": "",
     "delete_cmd_prefix": "del ",
     "library": "var_list.py",
     "varRefreshCmd": "print(var_dic_list())"
    },
    "r": {
     "delete_cmd_postfix": ") ",
     "delete_cmd_prefix": "rm(",
     "library": "var_list.r",
     "varRefreshCmd": "cat(var_dic_list()) "
    }
   },
   "types_to_exclude": [
    "module",
    "function",
    "builtin_function_or_method",
    "instance",
    "_Feature"
   ],
   "window_display": false
  }
 },
 "nbformat": 4,
 "nbformat_minor": 5
}
