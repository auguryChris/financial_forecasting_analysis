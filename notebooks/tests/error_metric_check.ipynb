{
 "cells": [
  {
   "cell_type": "code",
   "execution_count": 2,
   "id": "d0ce8adb",
   "metadata": {},
   "outputs": [],
   "source": [
    "import pandas as pd\n",
    "from sklearn.metrics import mean_absolute_percentage_error, mean_squared_error\n",
    "import os"
   ]
  },
  {
   "cell_type": "code",
   "execution_count": 69,
   "id": "31dc6ff5",
   "metadata": {},
   "outputs": [],
   "source": [
    "def error_calculation(dir_name):\n",
    "    rmse = {dir_name:[]}\n",
    "    mape = {dir_name:[]}\n",
    "    dir_name = '../data/ticker_predictions/' + dir_name\n",
    "    csv_list = os.listdir(dir_name)\n",
    "\n",
    "    for file in csv_list:\n",
    "        ticker = file.split('_')[0]\n",
    "        preds = pd.read_csv(dir_name + '/' + file)\n",
    "        full_data = pd.read_csv(f'../data/ticker_data/{ticker}_full_data.csv')\n",
    "        merged_data = full_data.merge(preds, left_on='reportperiod',  right_on='timestamp')\n",
    "        true_y, y_pred = merged_data['High'][1:], merged_data['prediction'][:-1]\n",
    "        rmse[f].append(mean_squared_error(true_y, y_pred, squared=False))\n",
    "        mape[f].append(mean_absolute_percentage_error(true_y,y_pred)*100)\n",
    "        \n",
    "    return rmse, mape"
   ]
  },
  {
   "cell_type": "code",
   "execution_count": 70,
   "id": "98b63d98",
   "metadata": {},
   "outputs": [],
   "source": [
    "dir_list = os.listdir('../data/ticker_predictions/')"
   ]
  },
  {
   "cell_type": "code",
   "execution_count": 71,
   "id": "5156feff",
   "metadata": {},
   "outputs": [],
   "source": [
    "rmse_list=[]\n",
    "mape_list=[]\n",
    "for f in dir_list:\n",
    "    rmse, mape = error_calculation(f)\n",
    "    rmse_list.append(rmse)\n",
    "    mape_list.append(mape)"
   ]
  },
  {
   "cell_type": "markdown",
   "id": "152f3da7",
   "metadata": {},
   "source": [
    "## Note these are in alphabetical order of tickers [ADSK, HD, MSFT, UNH, WAT, XOM]"
   ]
  },
  {
   "cell_type": "code",
   "execution_count": 77,
   "id": "8ee36b06",
   "metadata": {
    "scrolled": false
   },
   "outputs": [
    {
     "data": {
      "text/plain": [
       "[{'arima_preds': [4.140361417046434,\n",
       "   3.746723807733735,\n",
       "   3.091360341303565,\n",
       "   5.6974945381021325,\n",
       "   3.9823548429643894,\n",
       "   1.073556622655797]},\n",
       " {'ar_preds': [4.140367531455095,\n",
       "   3.743496519964972,\n",
       "   3.093601067128066,\n",
       "   5.6974945381021325,\n",
       "   3.9839279808043244,\n",
       "   1.0733414505079641]},\n",
       " {'linreg_preds': [11.383995490908257,\n",
       "   6.831691163326677,\n",
       "   6.221971970434219,\n",
       "   13.998155442231406,\n",
       "   6.5850520352609765,\n",
       "   1.5618610543804705]},\n",
       " {'LSTM_preds': [4.24612128918158,\n",
       "   3.7809539106477517,\n",
       "   3.027488733237654,\n",
       "   5.4831365496237146,\n",
       "   4.086195088211803,\n",
       "   1.0818545067064944]},\n",
       " {'rfreg_preds': [4.101144984262298,\n",
       "   3.4437993464975625,\n",
       "   2.968415253428911,\n",
       "   5.406780911222658,\n",
       "   3.8226862898072747,\n",
       "   0.9846908636142031]},\n",
       " {'xgboost_preds': [6.368761556968814,\n",
       "   5.486878672394022,\n",
       "   4.379248285087738,\n",
       "   7.875724752037686,\n",
       "   5.691928486302819,\n",
       "   1.5780206316118701]}]"
      ]
     },
     "execution_count": 77,
     "metadata": {},
     "output_type": "execute_result"
    }
   ],
   "source": [
    "rmse_list"
   ]
  },
  {
   "cell_type": "code",
   "execution_count": 72,
   "id": "d568da06",
   "metadata": {},
   "outputs": [
    {
     "data": {
      "text/plain": [
       "[{'arima_preds': [1.2729094344811875,\n",
       "   0.9814696824939748,\n",
       "   0.9931751150285129,\n",
       "   1.1031041358544145,\n",
       "   1.0170726259156366,\n",
       "   1.5257853323237434]},\n",
       " {'ar_preds': [1.2729108430592533,\n",
       "   0.9803765883340421,\n",
       "   0.9936644695124601,\n",
       "   1.1031041358544145,\n",
       "   1.0174953735985128,\n",
       "   1.5254646397082987]},\n",
       " {'linreg_preds': [3.6057045379512496,\n",
       "   1.9725710265609708,\n",
       "   2.1967807281994722,\n",
       "   3.615418740535073,\n",
       "   1.7971257611774254,\n",
       "   2.3792988419491534]},\n",
       " {'LSTM_preds': [1.2877149526493292,\n",
       "   0.9926966507215539,\n",
       "   1.0001856535079974,\n",
       "   1.0871060290540862,\n",
       "   1.048337500320925,\n",
       "   1.5489434083618132]},\n",
       " {'rfreg_preds': [1.262577097165713,\n",
       "   0.912080554818822,\n",
       "   1.0038313667694423,\n",
       "   1.0774489844290656,\n",
       "   0.9946549644840214,\n",
       "   1.4187536464225377]},\n",
       " {'xgboost_preds': [2.029186905018045,\n",
       "   1.4936232218399133,\n",
       "   1.5097393792348053,\n",
       "   1.714458779149453,\n",
       "   1.590630765161109,\n",
       "   2.3666681247262433]}]"
      ]
     },
     "execution_count": 72,
     "metadata": {},
     "output_type": "execute_result"
    }
   ],
   "source": [
    "mape_list"
   ]
  },
  {
   "cell_type": "code",
   "execution_count": null,
   "id": "d845a736",
   "metadata": {},
   "outputs": [],
   "source": []
  }
 ],
 "metadata": {
  "hide_input": false,
  "kernelspec": {
   "display_name": "Python 3",
   "language": "python",
   "name": "python3"
  },
  "language_info": {
   "codemirror_mode": {
    "name": "ipython",
    "version": 3
   },
   "file_extension": ".py",
   "mimetype": "text/x-python",
   "name": "python",
   "nbconvert_exporter": "python",
   "pygments_lexer": "ipython3",
   "version": "3.6.12"
  },
  "toc": {
   "base_numbering": 1,
   "nav_menu": {},
   "number_sections": false,
   "sideBar": true,
   "skip_h1_title": false,
   "title_cell": "Table of Contents",
   "title_sidebar": "Contents",
   "toc_cell": false,
   "toc_position": {},
   "toc_section_display": true,
   "toc_window_display": false
  },
  "varInspector": {
   "cols": {
    "lenName": 16,
    "lenType": 16,
    "lenVar": 40
   },
   "kernels_config": {
    "python": {
     "delete_cmd_postfix": "",
     "delete_cmd_prefix": "del ",
     "library": "var_list.py",
     "varRefreshCmd": "print(var_dic_list())"
    },
    "r": {
     "delete_cmd_postfix": ") ",
     "delete_cmd_prefix": "rm(",
     "library": "var_list.r",
     "varRefreshCmd": "cat(var_dic_list()) "
    }
   },
   "types_to_exclude": [
    "module",
    "function",
    "builtin_function_or_method",
    "instance",
    "_Feature"
   ],
   "window_display": false
  }
 },
 "nbformat": 4,
 "nbformat_minor": 5
}
