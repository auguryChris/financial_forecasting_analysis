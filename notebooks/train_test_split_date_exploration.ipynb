{
 "cells": [
  {
   "cell_type": "code",
   "execution_count": 1,
   "metadata": {},
   "outputs": [],
   "source": [
    "from datetime import timedelta, datetime\n",
    "import pandas as pd\n",
    "import numpy as np\n",
    "import pickle\n",
    "\n",
    "from scipy.interpolate import CubicSpline\n",
    "from sklearn.preprocessing import MinMaxScaler, StandardScaler\n",
    "from sklearn.metrics import mean_squared_error \n",
    "from keras.preprocessing.sequence import TimeseriesGenerator\n",
    "from keras.models import Sequential\n",
    "from keras.layers import Dense, LSTM, LeakyReLU\n",
    "from tensorflow.keras.callbacks import ModelCheckpoint\n",
    "from tensorflow.keras.models import load_model\n",
    "from tqdm import tqdm\n",
    "import sys, os\n",
    "import re\n",
    "\n",
    "absolutepath = os.path.abspath('')\n",
    "fileDirectory = os.path.dirname(absolutepath)\n",
    "\n",
    "#Path of parent directory (moves outside of repository)\n",
    "parentDirectory = os.path.dirname(fileDirectory)"
   ]
  },
  {
   "cell_type": "code",
   "execution_count": 8,
   "metadata": {},
   "outputs": [],
   "source": [
    "train = 0.8\n",
    "validation = 0.1\n",
    "test = 0.1\n",
    "\n",
    "ticker = 'MSFT'"
   ]
  },
  {
   "cell_type": "code",
   "execution_count": 4,
   "metadata": {},
   "outputs": [],
   "source": [
    "ticker_df = pd.read_pickle(fileDirectory+ '/data/raw_data_2021-11-12_12.31.45.pkl')\n",
    "coi = ['ticker','reportperiod','Open','High','Low','Close','Volume']\n",
    "ticker_df['reportperiod'] = pd.to_datetime(ticker_df['reportperiod'])\n",
    "ticker_df = ticker_df[ticker_df.ticker == ticker][coi]\n",
    "\n",
    "    \n",
    "# Need to shift high back to run apply function\n",
    "# this doesn't work when all stocks are represented\n",
    "ticker_df['Back_Shifted_Real_High'] = ticker_df['High'].shift(-1)\n",
    "\n",
    "num_dates = ticker_df.shape[0]"
   ]
  },
  {
   "cell_type": "code",
   "execution_count": 9,
   "metadata": {},
   "outputs": [],
   "source": [
    "train_dates = ticker_df['reportperiod'][ticker_df.ticker == ticker][6:round(train*num_dates)]\n",
    "valid_dates = ticker_df['reportperiod'][ticker_df.ticker == ticker][6+round(train*num_dates):round((train+validation)*num_dates)]\n",
    "test_dates =  ticker_df['reportperiod'][ticker_df.ticker == ticker][6+round((train+validation)*num_dates):]"
   ]
  },
  {
   "cell_type": "code",
   "execution_count": 10,
   "metadata": {},
   "outputs": [
    {
     "data": {
      "text/plain": [
       "1496059   2019-09-26\n",
       "1496058   2019-09-27\n",
       "1496057   2019-09-30\n",
       "1496056   2019-10-01\n",
       "1496055   2019-10-02\n",
       "             ...    \n",
       "1495526   2021-11-05\n",
       "1495525   2021-11-08\n",
       "1495524   2021-11-09\n",
       "1495523   2021-11-10\n",
       "1495522   2021-11-11\n",
       "Name: reportperiod, Length: 538, dtype: datetime64[ns]"
      ]
     },
     "execution_count": 10,
     "metadata": {},
     "output_type": "execute_result"
    }
   ],
   "source": [
    "test_dates"
   ]
  },
  {
   "cell_type": "code",
   "execution_count": null,
   "metadata": {},
   "outputs": [],
   "source": []
  }
 ],
 "metadata": {
  "interpreter": {
   "hash": "4bd624a0593993fe43ac4046b27b898fb2ef75c21c08f81e89e64ea0f51df676"
  },
  "kernelspec": {
   "display_name": "Python 3.9.7 64-bit ('tensorflow': conda)",
   "language": "python",
   "name": "python3"
  },
  "language_info": {
   "codemirror_mode": {
    "name": "ipython",
    "version": 3
   },
   "file_extension": ".py",
   "mimetype": "text/x-python",
   "name": "python",
   "nbconvert_exporter": "python",
   "pygments_lexer": "ipython3",
   "version": "3.9.7"
  },
  "orig_nbformat": 4
 },
 "nbformat": 4,
 "nbformat_minor": 2
}
