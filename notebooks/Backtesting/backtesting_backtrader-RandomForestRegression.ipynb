{
 "cells": [
  {
   "cell_type": "markdown",
   "metadata": {},
   "source": [
    "# Backtesting with backtrader library\n",
    "Notes:  \n",
    "Timestamp must be in the exact format specified for datafeed   **Timestamp needs to be first column index**  \n",
    "Params for datafeed need to be specified as tuple of tuples  \n",
    "Within strategy data is accessed via self.datas[0] for ex: self.datas[0].high_delta[0] would get you the first timeperiod's high_delta  \n",
    "The current data has already happened and cannot be used to execute an order (ex. you cannot look at the current close price and simultaneously buy the current close, the order will be executed at open instead), orders will be executed on the following day."
   ]
  },
  {
   "cell_type": "code",
   "execution_count": null,
   "metadata": {},
   "outputs": [],
   "source": [
    "import backtrader as bt\n",
    "import datetime\n",
    "import pandas as pd"
   ]
  },
  {
   "cell_type": "markdown",
   "metadata": {},
   "source": [
    "## Define Strategies and Data utils"
   ]
  },
  {
   "cell_type": "code",
   "execution_count": null,
   "metadata": {},
   "outputs": [],
   "source": [
    "class BasicStrategy(bt.Strategy):\n",
    "    def __init__(self):\n",
    "        # To keep track of pending orders\n",
    "        self.order = None\n",
    "        print('***The limit sells for this strategy are valid for 1 day***')\n",
    "        \n",
    "    def log(self, txt, dt=None):\n",
    "        ''' Logging function for this strategy'''\n",
    "        dt = dt or self.datas[0].datetime.date(0)\n",
    "        print('%s, %s' % (dt.isoformat(), txt))\n",
    "\n",
    "    def notify_order(self, order):\n",
    "        if order.status in [order.Submitted, order.Accepted]:\n",
    "            # Buy/Sell order submitted/accepted to/by broker - Nothing to do\n",
    "            return\n",
    "\n",
    "        # Check if an order has been completed\n",
    "        # Attention: broker could reject order if not enough cash\n",
    "        elif order.status in [order.Completed]:\n",
    "            if order.isbuy():\n",
    "                self.log('BUY EXECUTED, %.2f' % order.executed.price)\n",
    "            elif order.issell():\n",
    "                self.log('SELL EXECUTED, %.2f' % order.executed.price)\n",
    "            \n",
    "            self.bar_executed = len(self)\n",
    "        \n",
    "        elif order.status in [order.Canceled, order.Margin, order.Rejected]:\n",
    "            self.log('Order Canceled/Margin/Rejected')\n",
    "        \n",
    "        # set no pending order\n",
    "        self.order = None\n",
    "\n",
    "\n",
    "    def next(self):\n",
    "        # STRATEGY \n",
    "        data = self.datas[0]\n",
    "        self.log(f'Current Portfolio Value : {self.broker.get_value()}')\n",
    "        \n",
    "        # cancel if there is an order pending, this strategy should have 1 working order per day\n",
    "        if self.order:\n",
    "            self.log('ORDER CANCELLED')\n",
    "            self.cancel(self.order)\n",
    "        \n",
    "        # Check if we are in the market\n",
    "        if not self.position:\n",
    "            # BUY\n",
    "            try:\n",
    "                self.size = int(self.broker.get_cash() / self.datas[0].open[1])\n",
    "            except:\n",
    "                print('Size Exception. If at the end of data, ignore.')\n",
    "            # invest if prediction looks good\n",
    "            self.log(f'MARKET BUY CREATE {self.size} shares at next open, current close price: {data.close[0]}')\n",
    "            self.buy(size=self.size) # market order buys at next open                      \n",
    "                \n",
    "        else:\n",
    "            # place sell order at predicted high if predicted high is greater than current close price\n",
    "            # TODO: Make prediction and close a filter in the class constructor (more optimal)\n",
    "            if data.prediction[0] >= data.close[0]:\n",
    "                self.log(f'LIMIT SELL CREATE {self.size} shares at {data.prediction[0]}')  \n",
    "                self.sell(exectype=bt.Order.Limit,\n",
    "                             price=data.prediction[0],\n",
    "                             valid=data.datetime.date(0) + datetime.timedelta(days=2),\n",
    "                             size=self.size)\n",
    "        # if prediction is less than current value sell at open (ASAP)\n",
    "            else:\n",
    "                self.log('MARKET SELL CREATE. PREDICTION < CURRENT CLOSE')\n",
    "                self.sell(size=self.size)\n",
    "        "
   ]
  },
  {
   "cell_type": "code",
   "execution_count": null,
   "metadata": {},
   "outputs": [],
   "source": [
    "class BuyAndHold(bt.Strategy):\n",
    "    def log(self, txt, dt=None):\n",
    "        ''' Logging function for this strategy'''\n",
    "        dt = dt or self.datas[0].datetime.date(0)\n",
    "        print('%s, %s' % (dt.isoformat(), txt))\n",
    "\n",
    "    def notify_order(self, order):\n",
    "        if order.status in [order.Submitted, order.Accepted]:\n",
    "            # Buy/Sell order submitted/accepted to/by broker - Nothing to do\n",
    "            return\n",
    "\n",
    "        # Check if an order has been completed\n",
    "        # Attention: broker could reject order if not enough cash\n",
    "        if order.status in [order.Completed]:\n",
    "            if order.isbuy():\n",
    "                self.log('BUY EXECUTED, %.2f' % order.executed.price)\n",
    "            elif order.issell():\n",
    "                self.log('SELL EXECUTED, %.2f' % order.executed.price)\n",
    "\n",
    "            self.bar_executed = len(self)\n",
    "\n",
    "      \n",
    "    def start(self):\n",
    "        self.val_start = self.broker.get_cash()  # keep the starting cash\n",
    "\n",
    "    def nextstart(self):\n",
    "        # Buy all the available cash\n",
    "        size = int(self.broker.get_cash() / self.datas[0].open[1])\n",
    "        self.buy(size=size)\n",
    "\n",
    "    def stop(self):\n",
    "        # calculate the actual returns\n",
    "        self.roi = (self.broker.get_value() / self.val_start) - 1.0\n",
    "        print(f'Stop price: {self.datas[0].close[0]}')\n",
    "        print('ROI:        {:.2f}%'.format(100.0 * self.roi))"
   ]
  },
  {
   "cell_type": "code",
   "execution_count": null,
   "metadata": {},
   "outputs": [],
   "source": [
    "def prepare_data(data, fromdate, todate, filepath):\n",
    "    \"\"\"Prepare data for backtrader datafeed object\n",
    "        Returns prepared data filepath and params for the GenericCSVData class, also returns columns used\"\"\"\n",
    "    data['timestamp'] = pd.to_datetime(data['timestamp'])\n",
    "    # start param setup for backtrader\n",
    "    start = data['timestamp'].iloc[0]\n",
    "    end = data['timestamp'].iloc[-1]\n",
    "    from_to = [(start.year, start.month, start.day), (end.year, end.month, end.day)]\n",
    "    # Backtrader string format\n",
    "    data['timestamp'] = data['timestamp'].dt.strftime('%Y-%m-%d %H:%M:%S')\n",
    "    # backtrader data feed class needs a file path, this could be a temp file that's constantly overwritten\n",
    "    data.to_csv(filepath)\n",
    "    \n",
    "    starting_params = [\n",
    "    ('fromdate', datetime.datetime(*from_to[0])),\n",
    "    ('todate', datetime.datetime(*from_to[1])),\n",
    "    ('nullvalue', 0.0),\n",
    "    ('dtformat', ('%Y-%m-%d %H:%M:%S')),\n",
    "    ('tmformat', ('%H:%M:%S')),\n",
    "    ('datetime', 1)]\n",
    "    # skip nonfeatures (timestamp)\n",
    "    cols = data.columns[1:]\n",
    "    # get column position for each indicator and add to starting params list\n",
    "    i = 2 # starting index since others are reserved\n",
    "    for indicator in cols:\n",
    "        starting_params.append((indicator, i))\n",
    "        i+=1\n",
    "    final_params = tuple(starting_params)\n",
    "\n",
    "    return filepath, final_params, cols \n"
   ]
  },
  {
   "cell_type": "markdown",
   "metadata": {},
   "source": [
    "## Import Data and Run Backtest"
   ]
  },
  {
   "cell_type": "code",
   "execution_count": null,
   "metadata": {},
   "outputs": [],
   "source": [
    "import os"
   ]
  },
  {
   "cell_type": "code",
   "execution_count": null,
   "metadata": {
    "scrolled": true
   },
   "outputs": [],
   "source": [
    "def capstone_data_prep(pred_folder_name, pred_col_name, ticker_df_filepath, starting_cash=100000):\n",
    "    \"\"\"Main loop, preps data and executes backtrader on all stocks in the prediction folder\"\"\"\n",
    "    ticker_backtesting_dict = {}\n",
    "    for pred_file in os.listdir(f'../../data/ticker_predictions/{pred_folder_name}'):\n",
    "        # collect data\n",
    "        ticker_name = pred_file.split('_')[0]\n",
    "        pred_df = pd.read_csv(f'../../data/ticker_predictions/{pred_folder_name}/{pred_file}')\n",
    "        ticker_df = pd.read_csv(ticker_df_filepath + f'/{ticker_name}_full_data.csv')\n",
    "        \n",
    "        # make timestamp in column position 0, SPECIFIC TO FULL DATA IN FILE \n",
    "        ticker_df = ticker_df.rename({'reportperiod':'timestamp'}, axis=1)\n",
    "        ticker_cols = list(ticker_df.columns)\n",
    "        ticker_cols[5] = 'ts_cpy'\n",
    "        ticker_cols[0] = 'timestamp'\n",
    "        ticker_df.columns = ticker_cols\n",
    "        ticker_df['timestamp'] = ticker_df['ts_cpy']\n",
    "        # merge prediction data with full data, on key = timestamp\n",
    "        ticker_df = ticker_df.merge(pred_df.loc[:, ['timestamp', pred_col_name]], on='timestamp')\n",
    "        # new prediction column name = \"prediction\", important because backtester strategy looks for this column name\n",
    "        ticker_df = ticker_df.rename({pred_col_name:'prediction'}, axis=1)\n",
    "        # remove all non-prediction rows in prediction field\n",
    "        ticker_df = ticker_df[ticker_df.prediction > 0]\n",
    "        # skip nonfeatures, keep timestamp, SPECIFIC TO FULL DATA IN FILE \n",
    "        nonfeatures = ticker_df.columns[1:7]\n",
    "        features = [col for col in ticker_df.columns if col not in nonfeatures]\n",
    "        # get index of start and end dates for trading\n",
    "        ticker_df = ticker_df[features]\n",
    "        ticker_df.columns = [c.lower() for c in ticker_df.columns]\n",
    "        idx1 = ticker_df.prediction[ticker_df.prediction > 0].index[0]\n",
    "        idx2 = ticker_df.prediction[ticker_df.prediction > 0].index[-1]\n",
    "        start_date = pred_df.timestamp[idx1]\n",
    "        end_date  = pred_df.timestamp[idx2]\n",
    "        \n",
    "        # Prepare data for backtrader\n",
    "        prep_data = prepare_data(ticker_df.copy(), start_date, end_date, 'temp/prep_data.csv')\n",
    "        class DataFeed(bt.feeds.GenericCSVData):\n",
    "            lines = tuple(prep_data[2])\n",
    "            params = prep_data[1]\n",
    "        \n",
    "        print(f\"--------Ticker Name-------: {ticker_name}\")\n",
    "        ##### BUY AND HOLD #######\n",
    "        print('BUY AND HOLD')\n",
    "        # initialize everything and run strategy\n",
    "        cerebro = bt.Cerebro(cheat_on_open=True)\n",
    "        cerebro.broker.setcash(starting_cash)\n",
    "        #cerebro.addsizer(bt.sizers.FixedSize, stake=10)\n",
    "        print(f'Starting Portfolio Value: {cerebro.broker.getvalue()}')\n",
    "        data = DataFeed(dataname=prep_data[0])\n",
    "        cerebro.adddata(data)\n",
    "        cerebro.addstrategy(BuyAndHold)\n",
    "        cerebro.addanalyzer(bt.analyzers.SharpeRatio, timeframe=bt.TimeFrame.Months, _name = 'sharpe')\n",
    "        cerebro.addanalyzer(bt.analyzers.DrawDown, _name = 'dd')\n",
    "        cerebro.addanalyzer(bt.analyzers.Returns, _name = 'returns')\n",
    "        buy_hold = cerebro.run()\n",
    "        buy_hold_ret = cerebro.broker.getvalue() / starting_cash - 1\n",
    "        print(f'Final Portfolio Value: {cerebro.broker.getvalue()}\\n')\n",
    "        print('STRATEGY INFO:')\n",
    "        print(buy_hold[0].analyzers.sharpe.get_analysis())\n",
    "        print(buy_hold[0].analyzers.dd.get_analysis())\n",
    "        # rtot is total log returns over the strategy time period\n",
    "        print(buy_hold[0].analyzers.returns.get_analysis())\n",
    "\n",
    "        #### MAIN STRATEGY #####\n",
    "        cerebro = bt.Cerebro(cheat_on_open=True)\n",
    "        cerebro.broker.setcash(starting_cash)\n",
    "        print(f'Starting Portfolio Value: {cerebro.broker.getvalue()}')\n",
    "        data = DataFeed(dataname=prep_data[0])\n",
    "        cerebro.adddata(data)\n",
    "        cerebro.addstrategy(BasicStrategy)\n",
    "        cerebro.addanalyzer(bt.analyzers.SharpeRatio, timeframe=bt.TimeFrame.Months, _name = 'sharpe')\n",
    "        cerebro.addanalyzer(bt.analyzers.DrawDown, _name = 'dd')\n",
    "        cerebro.addanalyzer(bt.analyzers.Returns, _name = 'returns')\n",
    "        back = cerebro.run()\n",
    "        strat_ret = cerebro.broker.getvalue() / starting_cash - 1\n",
    "        print(f'Final Portfolio Value: {cerebro.broker.getvalue()}\\n')\n",
    "        print('STRATEGY INFO:')\n",
    "        print(back[0].analyzers.sharpe.get_analysis())\n",
    "        print(back[0].analyzers.dd.get_analysis())\n",
    "        # rtot is total log returns over the strategy time period\n",
    "        print(back[0].analyzers.returns.get_analysis())\n",
    "        print(f\"For {ticker_name}, return was {buy_hold_ret*100}% for buy and hold vs {strat_ret*100}%  for strategy\")\n",
    "        print('\\n'*5)\n",
    "\n",
    "        ticker_backtesting_dict[ticker_name] = cerebro\n",
    "        \n",
    "    return ticker_backtesting_dict"
   ]
  },
  {
   "cell_type": "code",
   "execution_count": null,
   "metadata": {
    "scrolled": false
   },
   "outputs": [],
   "source": [
    "# pred_folder_name, pred_col_name, ticker_df_filepath, starting_cash=100000\n",
    "\n",
    "cerebro_dict = capstone_data_prep('rfreg_preds', 'prediction', '../data/ticker_data')\n",
    "cerebro_dict"
   ]
  },
  {
   "cell_type": "markdown",
   "metadata": {},
   "source": [
    "### Library additionally has plotting\n",
    "Not sure how to reformat this, it's pretty ugly"
   ]
  },
  {
   "cell_type": "code",
   "execution_count": null,
   "metadata": {},
   "outputs": [],
   "source": [
    "import matplotlib.pyplot as plt\n",
    "\n",
    "plt.rcParams['figure.figsize'] = [10, 8]\n",
    "plt.rcParams.update({'font.size': 12}) \n",
    "cerebro_dict['UNH'].plot()"
   ]
  },
  {
   "cell_type": "markdown",
   "metadata": {},
   "source": [
    "### Ways to Improve:"
   ]
  },
  {
   "cell_type": "markdown",
   "metadata": {},
   "source": [
    "Increase strategy trading volume. There are certain periods where sell orders are not going through for multiple days in a row, meaning that the price is lower than anticipated by model for that period. For example, if the last sell order didn't go through, we can find a way to use that information to inform our next sell order and make the prediction lower or try a market sell. Maybe train a \"bear\" model, one that only knows pain and suffering of bear markets, and only produces pessimistic high price predictions.   \n",
    "\n",
    "Smarter entry points. Currently, buy orders are being executed at market price at the open. Returns may increase if entry constraints are increased.  \n",
    "\n",
    "Resizing orders. Orders for this strategy baseline are currently 100% in or 100% out of position. This has beneifits if you want less exposure to the long term movement of the stocks. Depending on the situation and strategy, we might want to reserve a cash position to expose ourselves less to short term movements.  "
   ]
  }
 ],
 "metadata": {
  "hide_input": false,
  "kernelspec": {
   "display_name": "Python 3",
   "language": "python",
   "name": "python3"
  },
  "language_info": {
   "codemirror_mode": {
    "name": "ipython",
    "version": 3
   },
   "file_extension": ".py",
   "mimetype": "text/x-python",
   "name": "python",
   "nbconvert_exporter": "python",
   "pygments_lexer": "ipython3",
   "version": "3.6.12"
  },
  "toc": {
   "base_numbering": 1,
   "nav_menu": {},
   "number_sections": false,
   "sideBar": true,
   "skip_h1_title": false,
   "title_cell": "Table of Contents",
   "title_sidebar": "Contents",
   "toc_cell": false,
   "toc_position": {},
   "toc_section_display": true,
   "toc_window_display": false
  },
  "varInspector": {
   "cols": {
    "lenName": 16,
    "lenType": 16,
    "lenVar": 40
   },
   "kernels_config": {
    "python": {
     "delete_cmd_postfix": "",
     "delete_cmd_prefix": "del ",
     "library": "var_list.py",
     "varRefreshCmd": "print(var_dic_list())"
    },
    "r": {
     "delete_cmd_postfix": ") ",
     "delete_cmd_prefix": "rm(",
     "library": "var_list.r",
     "varRefreshCmd": "cat(var_dic_list()) "
    }
   },
   "types_to_exclude": [
    "module",
    "function",
    "builtin_function_or_method",
    "instance",
    "_Feature"
   ],
   "window_display": false
  }
 },
 "nbformat": 4,
 "nbformat_minor": 5
}
